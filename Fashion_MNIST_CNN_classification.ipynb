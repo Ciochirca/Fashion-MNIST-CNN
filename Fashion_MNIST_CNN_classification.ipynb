{
  "nbformat": 4,
  "nbformat_minor": 0,
  "metadata": {
    "colab": {
      "name": "Fashion MNIST CNN classification.ipynb",
      "provenance": [],
      "collapsed_sections": []
    },
    "kernelspec": {
      "name": "python3",
      "display_name": "Python 3"
    },
    "accelerator": "GPU"
  },
  "cells": [
    {
      "cell_type": "markdown",
      "metadata": {
        "id": "Tt0oTrER87cZ"
      },
      "source": [
        "# Image classification with Convolutional Neural Networks\r\n",
        "\r\n",
        "We'll build and train a neural network to classify images of clothing like sneakers and shirts. We'll use keras from TensorFlow."
      ]
    },
    {
      "cell_type": "markdown",
      "metadata": {
        "id": "86UHIuou9TiT"
      },
      "source": [
        "# Install and import dependencies\r\n",
        "\r\n",
        "We'll need TensorFlow datasets, which simplifies downloading and accessing datasets and provides several sample datasets to work with and we'll use a few helper libraries."
      ]
    },
    {
      "cell_type": "code",
      "metadata": {
        "colab": {
          "base_uri": "https://localhost:8080/"
        },
        "id": "lv0nAz5h-KCA",
        "outputId": "50a01312-e621-40fe-9598-a618fea41025"
      },
      "source": [
        "!pip install -U tensorflow_datasets"
      ],
      "execution_count": null,
      "outputs": [
        {
          "output_type": "stream",
          "text": [
            "Collecting tensorflow_datasets\n",
            "\u001b[?25l  Downloading https://files.pythonhosted.org/packages/d3/91/c3e36695ca04e6f3c2d920887d7dc36550f6bbb03d7d5fd03c2172b06d97/tensorflow_datasets-4.2.0-py3-none-any.whl (3.7MB)\n",
            "\u001b[K     |████████████████████████████████| 3.7MB 10.7MB/s \n",
            "\u001b[?25hRequirement already satisfied, skipping upgrade: promise in /usr/local/lib/python3.6/dist-packages (from tensorflow_datasets) (2.3)\n",
            "Requirement already satisfied, skipping upgrade: requests>=2.19.0 in /usr/local/lib/python3.6/dist-packages (from tensorflow_datasets) (2.23.0)\n",
            "Requirement already satisfied, skipping upgrade: attrs>=18.1.0 in /usr/local/lib/python3.6/dist-packages (from tensorflow_datasets) (20.3.0)\n",
            "Requirement already satisfied, skipping upgrade: importlib-resources; python_version < \"3.9\" in /usr/local/lib/python3.6/dist-packages (from tensorflow_datasets) (3.3.0)\n",
            "Requirement already satisfied, skipping upgrade: typing-extensions; python_version < \"3.8\" in /usr/local/lib/python3.6/dist-packages (from tensorflow_datasets) (3.7.4.3)\n",
            "Requirement already satisfied, skipping upgrade: numpy in /usr/local/lib/python3.6/dist-packages (from tensorflow_datasets) (1.19.4)\n",
            "Requirement already satisfied, skipping upgrade: dataclasses; python_version < \"3.7\" in /usr/local/lib/python3.6/dist-packages (from tensorflow_datasets) (0.8)\n",
            "Requirement already satisfied, skipping upgrade: tqdm in /usr/local/lib/python3.6/dist-packages (from tensorflow_datasets) (4.41.1)\n",
            "Requirement already satisfied, skipping upgrade: dill in /usr/local/lib/python3.6/dist-packages (from tensorflow_datasets) (0.3.3)\n",
            "Requirement already satisfied, skipping upgrade: future in /usr/local/lib/python3.6/dist-packages (from tensorflow_datasets) (0.16.0)\n",
            "Requirement already satisfied, skipping upgrade: protobuf>=3.12.2 in /usr/local/lib/python3.6/dist-packages (from tensorflow_datasets) (3.12.4)\n",
            "Requirement already satisfied, skipping upgrade: termcolor in /usr/local/lib/python3.6/dist-packages (from tensorflow_datasets) (1.1.0)\n",
            "Requirement already satisfied, skipping upgrade: tensorflow-metadata in /usr/local/lib/python3.6/dist-packages (from tensorflow_datasets) (0.26.0)\n",
            "Requirement already satisfied, skipping upgrade: six in /usr/local/lib/python3.6/dist-packages (from tensorflow_datasets) (1.15.0)\n",
            "Requirement already satisfied, skipping upgrade: absl-py in /usr/local/lib/python3.6/dist-packages (from tensorflow_datasets) (0.10.0)\n",
            "Requirement already satisfied, skipping upgrade: urllib3!=1.25.0,!=1.25.1,<1.26,>=1.21.1 in /usr/local/lib/python3.6/dist-packages (from requests>=2.19.0->tensorflow_datasets) (1.24.3)\n",
            "Requirement already satisfied, skipping upgrade: chardet<4,>=3.0.2 in /usr/local/lib/python3.6/dist-packages (from requests>=2.19.0->tensorflow_datasets) (3.0.4)\n",
            "Requirement already satisfied, skipping upgrade: certifi>=2017.4.17 in /usr/local/lib/python3.6/dist-packages (from requests>=2.19.0->tensorflow_datasets) (2020.12.5)\n",
            "Requirement already satisfied, skipping upgrade: idna<3,>=2.5 in /usr/local/lib/python3.6/dist-packages (from requests>=2.19.0->tensorflow_datasets) (2.10)\n",
            "Requirement already satisfied, skipping upgrade: zipp>=0.4; python_version < \"3.8\" in /usr/local/lib/python3.6/dist-packages (from importlib-resources; python_version < \"3.9\"->tensorflow_datasets) (3.4.0)\n",
            "Requirement already satisfied, skipping upgrade: setuptools in /usr/local/lib/python3.6/dist-packages (from protobuf>=3.12.2->tensorflow_datasets) (51.1.1)\n",
            "Requirement already satisfied, skipping upgrade: googleapis-common-protos<2,>=1.52.0 in /usr/local/lib/python3.6/dist-packages (from tensorflow-metadata->tensorflow_datasets) (1.52.0)\n",
            "Installing collected packages: tensorflow-datasets\n",
            "  Found existing installation: tensorflow-datasets 4.0.1\n",
            "    Uninstalling tensorflow-datasets-4.0.1:\n",
            "      Successfully uninstalled tensorflow-datasets-4.0.1\n",
            "Successfully installed tensorflow-datasets-4.2.0\n"
          ],
          "name": "stdout"
        }
      ]
    },
    {
      "cell_type": "code",
      "metadata": {
        "id": "kt4wKNp7-Z6D"
      },
      "source": [
        "import tensorflow as tf\r\n",
        "\r\n",
        "#import tensorflow datasets\r\n",
        "import tensorflow_datasets as tfds\r\n",
        "tfds.disable_progress_bar()\r\n",
        "\r\n",
        "#helper libraries\r\n",
        "import math\r\n",
        "import numpy as np\r\n",
        "import matplotlib.pyplot as plt\r\n",
        "import logging\r\n",
        "logger = tf.get_logger()\r\n",
        "logger.setLevel(logging.ERROR)"
      ],
      "execution_count": null,
      "outputs": []
    },
    {
      "cell_type": "markdown",
      "metadata": {
        "id": "5tCiguJA-7JP"
      },
      "source": [
        "# Import the fashion MNIST dataset\r\n",
        "\r\n",
        "The fashion MNIST dataset contains 70000 grayscale images in 10 categories. The images show individual articles of clothing at low resolution, 28x28 pixels.\r\n",
        "\r\n",
        "We will use 60000 images to train the network and 10000 images to evaluate how accurately the network learned to classify images."
      ]
    },
    {
      "cell_type": "code",
      "metadata": {
        "colab": {
          "base_uri": "https://localhost:8080/"
        },
        "id": "s1lwjIm3_jMV",
        "outputId": "d2b33dac-d98f-42fa-f4f4-39493bca40e3"
      },
      "source": [
        "dataset, metadata = tfds.load('fashion_mnist', as_supervised=True, with_info=True)\r\n",
        "train_dataset, test_dataset = dataset['train'], dataset['test']"
      ],
      "execution_count": null,
      "outputs": [
        {
          "output_type": "stream",
          "text": [
            "\u001b[1mDownloading and preparing dataset 29.45 MiB (download: 29.45 MiB, generated: 36.42 MiB, total: 65.87 MiB) to /root/tensorflow_datasets/fashion_mnist/3.0.1...\u001b[0m\n",
            "\u001b[1mDataset fashion_mnist downloaded and prepared to /root/tensorflow_datasets/fashion_mnist/3.0.1. Subsequent calls will reuse this data.\u001b[0m\n"
          ],
          "name": "stdout"
        }
      ]
    },
    {
      "cell_type": "markdown",
      "metadata": {
        "id": "OS6EkhWBEQTj"
      },
      "source": [
        "Loading the dataset returns metadata as well as training datadest and test dataset.\r\n",
        "* The model is trained using train_dataset.\r\n",
        "* The model is tested against the test_dataset.\r\n",
        "The images are 28x28 pixels with pixels values in the range [0, 255]. The labels are an array of integers in the range [0, 9] These correspond to the class of clothing the image represents:\r\n",
        "\r\n",
        "<table>\r\n",
        "  <tr>\r\n",
        "    <th>Label</th>\r\n",
        "    <th>Class</th>\r\n",
        "  </tr>\r\n",
        "  <tr>\r\n",
        "    <td>0</td>\r\n",
        "    <td>T-shirt/top</td>\r\n",
        "  </tr>\r\n",
        "  <tr>\r\n",
        "    <td>1</td>\r\n",
        "    <td>Trouser</td>\r\n",
        "  </tr>\r\n",
        "    <tr>\r\n",
        "    <td>2</td>\r\n",
        "    <td>Pullover</td>\r\n",
        "  </tr>\r\n",
        "    <tr>\r\n",
        "    <td>3</td>\r\n",
        "    <td>Dress</td>\r\n",
        "  </tr>\r\n",
        "    <tr>\r\n",
        "    <td>4</td>\r\n",
        "    <td>Coat</td>\r\n",
        "  </tr>\r\n",
        "    <tr>\r\n",
        "    <td>5</td>\r\n",
        "    <td>Sandal</td>\r\n",
        "  </tr>\r\n",
        "    <tr>\r\n",
        "    <td>6</td>\r\n",
        "    <td>Shirt</td>\r\n",
        "  </tr>\r\n",
        "    <tr>\r\n",
        "    <td>7</td>\r\n",
        "    <td>Sneaker</td>\r\n",
        "  </tr>\r\n",
        "    <tr>\r\n",
        "    <td>8</td>\r\n",
        "    <td>Bag</td>\r\n",
        "  </tr>\r\n",
        "    <tr>\r\n",
        "    <td>9</td>\r\n",
        "    <td>Ankle boot</td>\r\n",
        "  </tr>\r\n",
        "</table>\r\n",
        "\r\n",
        "Each image is mapped to a single label. Since the class names are not included with the dataset, store them here to use later when plotting the images."
      ]
    },
    {
      "cell_type": "code",
      "metadata": {
        "id": "vNnpxgUvFGGk"
      },
      "source": [
        "class_names = ['T-shirt/top', 'Trouser', 'Pullover', 'Dress', 'Coat', 'Sandal', 'Shirt', 'Sneaker', 'Bag', 'Ankle boot']"
      ],
      "execution_count": null,
      "outputs": []
    },
    {
      "cell_type": "markdown",
      "metadata": {
        "id": "3GLMmpj-FY1s"
      },
      "source": [
        "# Explore the data\r\n",
        "\r\n",
        "Let's explore the format of the dataset before training the model. The following shows there are 60000 images in the training set and 10000 images in the test set:"
      ]
    },
    {
      "cell_type": "code",
      "metadata": {
        "colab": {
          "base_uri": "https://localhost:8080/"
        },
        "id": "0EOVjSQwFnaC",
        "outputId": "116b04ab-217d-44ad-acf9-c1730732a42a"
      },
      "source": [
        "num_train_examples = metadata.splits['train'].num_examples\r\n",
        "num_test_examples = metadata.splits['test'].num_examples\r\n",
        "print(\"Number of training examples: {}\".format(num_train_examples))\r\n",
        "print(\"Number of testing examples: {}\".format(num_test_examples))"
      ],
      "execution_count": null,
      "outputs": [
        {
          "output_type": "stream",
          "text": [
            "Number of training examples: 60000\n",
            "Number of testing examples: 10000\n"
          ],
          "name": "stdout"
        }
      ]
    },
    {
      "cell_type": "markdown",
      "metadata": {
        "id": "26X18DKeGKw1"
      },
      "source": [
        "# Preprocess the data\r\n",
        "\r\n",
        "The value of each pixel in the image is in the range [0, 255]. For the model to work properly, these values need to be normalized to the range [0,1]. So here we create a normalization function, then apply it to each image in the test and train datasets."
      ]
    },
    {
      "cell_type": "code",
      "metadata": {
        "id": "ObNwFwRbGedi"
      },
      "source": [
        "def normalize(images, labels):\r\n",
        "  images = tf.cast(images, tf.float32)\r\n",
        "  images /= 255\r\n",
        "  return images, labels\r\n",
        "\r\n",
        "# The map function applies the normalize function to each element in the train and test datasets\r\n",
        "train_dataset = train_dataset.map(normalize)\r\n",
        "test_dataset = test_dataset.map(normalize)\r\n",
        "\r\n",
        "# The first time you use the dataset the images will be loaded from disk\r\n",
        "# Caching will keep them in memory, making training faster\r\n",
        "train_dataset = train_dataset.cache()\r\n",
        "test_dataset = test_dataset.cache()"
      ],
      "execution_count": null,
      "outputs": []
    },
    {
      "cell_type": "markdown",
      "metadata": {
        "id": "hhYYFPjDHES9"
      },
      "source": [
        "# Explore the processed data\r\n",
        "\r\n",
        "We'll plot an image to see what it looks like."
      ]
    },
    {
      "cell_type": "code",
      "metadata": {
        "colab": {
          "base_uri": "https://localhost:8080/",
          "height": 269
        },
        "id": "Q25vYCIWHLoi",
        "outputId": "ce1ea291-aedc-4c4d-9858-fc414c787e1c"
      },
      "source": [
        "# Take a single image and remove the color dimension by reshaping\r\n",
        "\r\n",
        "for image,label in test_dataset.take(1):\r\n",
        "  break\r\n",
        "image = image.numpy().reshape((28,28))\r\n",
        "\r\n",
        "# Plot the image\r\n",
        "plt.figure()\r\n",
        "plt.imshow(image, cmap=plt.cm.binary)\r\n",
        "plt.colorbar()\r\n",
        "plt.grid(False)\r\n",
        "plt.show()"
      ],
      "execution_count": null,
      "outputs": [
        {
          "output_type": "display_data",
          "data": {
            "image/png": "[encoded data removed]",
            "text/plain": [
              "<Figure size 432x288 with 2 Axes>"
            ]
          },
          "metadata": {
            "tags": [],
            "needs_background": "light"
          }
        }
      ]
    },
    {
      "cell_type": "markdown",
      "metadata": {
        "id": "kWmcKFKFH5PT"
      },
      "source": [
        "Let's display the first 25 images from the training set and display the class name below each image. Verify that the data is in the correct format and we're ready to build and train the network."
      ]
    },
    {
      "cell_type": "code",
      "metadata": {
        "colab": {
          "base_uri": "https://localhost:8080/",
          "height": 589
        },
        "id": "WNBRehI2IFMn",
        "outputId": "b74676a9-4bc4-4835-d2f7-ab3d140ed71c"
      },
      "source": [
        "plt.figure(figsize=(10, 10))\r\n",
        "i = 0\r\n",
        "for(image, label) in test_dataset.take(25):\r\n",
        "  image = image.numpy().reshape((28,28))\r\n",
        "  plt.subplot(5, 5, i+1)\r\n",
        "  plt.xticks([])\r\n",
        "  plt.yticks([])\r\n",
        "  plt.grid(False)\r\n",
        "  plt.imshow(image, cmap=plt.cm.binary)\r\n",
        "  plt.xlabel(class_names[label])\r\n",
        "  i += 1\r\n",
        "plt.show()"
      ],
      "execution_count": null,
      "outputs": [
        {
          "output_type": "display_data",
          "data": {
            "image/png": "[encoded data removed]",
            "text/plain": [
              "<Figure size 720x720 with 25 Axes>"
            ]
          },
          "metadata": {
            "tags": []
          }
        }
      ]
    },
    {
      "cell_type": "markdown",
      "metadata": {
        "id": "KdifIlrmI8NY"
      },
      "source": [
        "# Build the model\r\n",
        "\r\n",
        "Building the neural network requires configuring the layers of the model, then compiling the model.\r\n",
        "\r\n",
        "## Setup the layers\r\n",
        "\r\n",
        "The basic building block of a neural network is the layer. A layer extracts a representation from the data fed into it. Hopefully, a series of connected layers results in a representation that is meaningful for the problem at hand.\r\n",
        "\r\n",
        "Much of deep learning consists of chaining together simple layers. Most layers, like `tf.keras.layers.Dense`, have internal parameters which are adjusted (learned) during training."
      ]
    },
    {
      "cell_type": "code",
      "metadata": {
        "id": "Ez22pOe1J1SF"
      },
      "source": [
        "model = tf.keras.Sequential([\r\n",
        "                             tf.keras.layers.Conv2D(32, (3,3), padding='same', activation=tf.nn.relu, input_shape=(28,28,1)),\r\n",
        "                             tf.keras.layers.MaxPooling2D((2,2), strides=2),\r\n",
        "                             tf.keras.layers.Conv2D(32, (3,3), padding='same', activation=tf.nn.relu),\r\n",
        "                             tf.keras.layers.MaxPooling2D((2,2), strides=2),\r\n",
        "                             tf.keras.layers.Flatten(),\r\n",
        "                             tf.keras.layers.Dense(128, activation=tf.nn.relu),\r\n",
        "                             tf.keras.layers.Dense(10, activation=tf.nn.softmax)\r\n",
        "])"
      ],
      "execution_count": null,
      "outputs": []
    },
    {
      "cell_type": "markdown",
      "metadata": {
        "id": "QA7lqOtdK_WH"
      },
      "source": [
        "These network layers are:\r\n",
        "\r\n",
        "* **convolutions** `tf.keras.layersConv2D and MaxPooling2D` - The network starts with two pairs of Conv/MaxPool. The first layer is a Conv2D, filters (3,3) are being applied to the input image, retaining the original image size by using padding and creating 32 output (convulted) images (so this layer creates 32 convulted images of the same size as input). After that, the 32 outputs are reduced in size using a MaxPooling2D (2,2) with a stride of 2. The next Conv2D also has a (3,3) kernel, takes the 32 images as input and creates 64 outputs which are again reduced in size by a MaxPooling2D layer.\r\n",
        "* **output** `tf.keras.layers.Dense` - A 128-neuron, followed by a 10-node softmax layer. Each node represents a class of clothing. As in the previous layer, the final layer takes input from the 128 nodes in the layer before it and outputsa value in the range [0, 1], representing the probability that the image belongs to that class. The sum of all 10 node values is 1.\r\n",
        "\r\n",
        ">Using `softmax`activation and `SparseCategoricalCrossentropy()` has issues and which are patched by the `tf.keras`model. A safer approach, in general, is to use a linear output (no activation function) with `SparseCategoricalCrossentropy(from_logits=True)`."
      ]
    },
    {
      "cell_type": "markdown",
      "metadata": {
        "id": "PCQB8_IbOWt5"
      },
      "source": [
        "# Compile the model\r\n",
        "\r\n",
        "Before the model is ready for training, it needs a few more settings. These are added during the model's compile step:\r\n",
        "* loss function - an algorithm for measuring how far the model's outputs are from the desired output. The goal of training is this measures loss\r\n",
        "optimizer - an algorithm for adjusting the inner parameters of the model in order to minimize loss\r\n",
        "metrics - used to monitor the training and testing steps; the following is using accuracy, the fraction of the images that are correctly classified"
      ]
    },
    {
      "cell_type": "code",
      "metadata": {
        "id": "D3QlsCn0O9Eg"
      },
      "source": [
        "model.compile(\r\n",
        "    optimizer='adam',\r\n",
        "    loss=tf.keras.losses.SparseCategoricalCrossentropy(),\r\n",
        "    metrics=['accuracy']\r\n",
        ")"
      ],
      "execution_count": null,
      "outputs": []
    },
    {
      "cell_type": "markdown",
      "metadata": {
        "id": "jhS4qmRdPOHT"
      },
      "source": [
        "# Train the model\r\n",
        "\r\n",
        "First we define the iteration behavior for the train dataset:\r\n",
        "1. Repeat forever by specifying `dataset.repeat()` (the epochs parameter described below limits how long we perform training).\r\n",
        "2. The `dataset.shuffle(60000)` randomizes the order so our model cannot learn anything from the order of the examples.\r\n",
        "3. The `dataset.batch(32)` tells `model.fit` to use batches of 32 images and labels when updating the model variables.\r\n",
        "\r\n",
        "Training is performed by calling the `model.fit` method:\r\n",
        "1. Feed the training data to the model using `train_dataset`.\r\n",
        "2. The model learns to associate images and labels.\r\n",
        "3. The `epochs=5` parameter limits training to 5 full iterations of the training dataset, so a total of 5*60000 = 300000 examples."
      ]
    },
    {
      "cell_type": "code",
      "metadata": {
        "id": "WMpKTNgqQKC5"
      },
      "source": [
        "BATCH_SIZE = 32\r\n",
        "train_dataset = train_dataset.cache().repeat().shuffle(num_train_examples).batch(BATCH_SIZE)\r\n",
        "test_dataset = test_dataset.cache().batch(BATCH_SIZE)"
      ],
      "execution_count": null,
      "outputs": []
    },
    {
      "cell_type": "code",
      "metadata": {
        "colab": {
          "base_uri": "https://localhost:8080/"
        },
        "id": "cyxd0vS7Qk6_",
        "outputId": "e44cae8c-6672-4d48-f7e0-7aec3a0817b8"
      },
      "source": [
        "model.fit(train_dataset, epochs=10, steps_per_epoch=math.ceil(num_train_examples/BATCH_SIZE))"
      ],
      "execution_count": null,
      "outputs": [
        {
          "output_type": "stream",
          "text": [
            "Epoch 1/10\n",
            "1875/1875 [==============================] - 18s 4ms/step - loss: 0.5863 - accuracy: 0.7900\n",
            "Epoch 2/10\n",
            "1875/1875 [==============================] - 8s 4ms/step - loss: 0.2847 - accuracy: 0.8972\n",
            "Epoch 3/10\n",
            "1875/1875 [==============================] - 8s 4ms/step - loss: 0.2418 - accuracy: 0.9102\n",
            "Epoch 4/10\n",
            "1875/1875 [==============================] - 8s 4ms/step - loss: 0.2117 - accuracy: 0.9241\n",
            "Epoch 5/10\n",
            "1875/1875 [==============================] - 8s 4ms/step - loss: 0.1849 - accuracy: 0.9328\n",
            "Epoch 6/10\n",
            "1875/1875 [==============================] - 8s 4ms/step - loss: 0.1585 - accuracy: 0.9407\n",
            "Epoch 7/10\n",
            "1875/1875 [==============================] - 8s 4ms/step - loss: 0.1437 - accuracy: 0.9458\n",
            "Epoch 8/10\n",
            "1875/1875 [==============================] - 8s 4ms/step - loss: 0.1261 - accuracy: 0.9526\n",
            "Epoch 9/10\n",
            "1875/1875 [==============================] - 8s 4ms/step - loss: 0.1112 - accuracy: 0.9575\n",
            "Epoch 10/10\n",
            "1875/1875 [==============================] - 9s 5ms/step - loss: 0.1018 - accuracy: 0.9623\n"
          ],
          "name": "stdout"
        },
        {
          "output_type": "execute_result",
          "data": {
            "text/plain": [
              "<tensorflow.python.keras.callbacks.History at 0x7fc5b78d0940>"
            ]
          },
          "metadata": {
            "tags": []
          },
          "execution_count": 13
        }
      ]
    },
    {
      "cell_type": "markdown",
      "metadata": {
        "id": "5DHH8m25SIqY"
      },
      "source": [
        "# Evaluate accuracy\r\n",
        "\r\n",
        "Next, compare how the model performs on the test dataset. Use all examples we have in the test dataset to asses accuracy."
      ]
    },
    {
      "cell_type": "code",
      "metadata": {
        "colab": {
          "base_uri": "https://localhost:8080/"
        },
        "id": "e6oBfpRVScCH",
        "outputId": "0e72a2ab-7564-4b0f-a750-e03f44af21ea"
      },
      "source": [
        "test_loss, test_accuracy = model.evaluate(test_dataset, steps=math.ceil(num_test_examples/BATCH_SIZE))\r\n",
        "print('Accuracy on test dataset: ', test_accuracy)"
      ],
      "execution_count": null,
      "outputs": [
        {
          "output_type": "stream",
          "text": [
            "313/313 [==============================] - 2s 6ms/step - loss: 0.2668 - accuracy: 0.9202\n",
            "Accuracy on test dataset:  0.920199990272522\n"
          ],
          "name": "stdout"
        }
      ]
    },
    {
      "cell_type": "markdown",
      "metadata": {
        "id": "R6NwKrWNS6rt"
      },
      "source": [
        "As it turns out, the accuracy on the test dataset is smaller than the accuracy on the training dataset. This is completely normal, since the model was trained on `train_dataset`. Whne the model sees images it has never seen before (during training), we can expect performance to go down."
      ]
    },
    {
      "cell_type": "markdown",
      "metadata": {
        "id": "CPlIpxPbTMeF"
      },
      "source": [
        "# Make predictions and explore\r\n",
        "\r\n",
        "With the model trained, we can use it to make predictions about some images."
      ]
    },
    {
      "cell_type": "code",
      "metadata": {
        "id": "zPS1O3P-TSyW"
      },
      "source": [
        "for test_images, test_labels in test_dataset.take(1):\r\n",
        "  test_images = test_images.numpy()\r\n",
        "  test_labels = test_labels.numpy()\r\n",
        "  predictions = model.predict(test_images)"
      ],
      "execution_count": null,
      "outputs": []
    },
    {
      "cell_type": "code",
      "metadata": {
        "colab": {
          "base_uri": "https://localhost:8080/"
        },
        "id": "LNq3ZHuATkzz",
        "outputId": "1ef939af-6962-465e-d4d1-f05c2f1aaf01"
      },
      "source": [
        "predictions.shape"
      ],
      "execution_count": null,
      "outputs": [
        {
          "output_type": "execute_result",
          "data": {
            "text/plain": [
              "(32, 10)"
            ]
          },
          "metadata": {
            "tags": []
          },
          "execution_count": 17
        }
      ]
    },
    {
      "cell_type": "markdown",
      "metadata": {
        "id": "jWnyjlwiTvUL"
      },
      "source": [
        "Here, the model has predicted the probability of each label for each image in the testing set. Let's take a look at the first prediction."
      ]
    },
    {
      "cell_type": "code",
      "metadata": {
        "colab": {
          "base_uri": "https://localhost:8080/"
        },
        "id": "uM0C-85MT6Mg",
        "outputId": "fdbe6a63-3c71-42b9-c684-0d99e15685c1"
      },
      "source": [
        "predictions[0]"
      ],
      "execution_count": null,
      "outputs": [
        {
          "output_type": "execute_result",
          "data": {
            "text/plain": [
              "array([2.9498522e-05, 1.2060535e-07, 1.9092460e-03, 1.5202452e-10,\n",
              "       6.8374336e-01, 2.2228016e-07, 3.1431472e-01, 9.5693620e-10,\n",
              "       1.0798680e-09, 2.8517136e-06], dtype=float32)"
            ]
          },
          "metadata": {
            "tags": []
          },
          "execution_count": 18
        }
      ]
    },
    {
      "cell_type": "markdown",
      "metadata": {
        "id": "yNYpPjpEUJju"
      },
      "source": [
        "A prediction is an array of 10 numbers. These describe the \"confidence\" of the model that the image corresponds to each of the 10 different articles of clothing. We can see which label has the highest confidence value:"
      ]
    },
    {
      "cell_type": "code",
      "metadata": {
        "colab": {
          "base_uri": "https://localhost:8080/"
        },
        "id": "ueGfNUE9UU0r",
        "outputId": "f42f9e4b-1ef5-44ca-864e-3a2ab5e5bfa9"
      },
      "source": [
        "np.argmax(predictions[0])"
      ],
      "execution_count": null,
      "outputs": [
        {
          "output_type": "execute_result",
          "data": {
            "text/plain": [
              "4"
            ]
          },
          "metadata": {
            "tags": []
          },
          "execution_count": 19
        }
      ]
    },
    {
      "cell_type": "markdown",
      "metadata": {
        "id": "3v5eI8O4UlHT"
      },
      "source": [
        "Let's chech the label to see which article of clothing it is."
      ]
    },
    {
      "cell_type": "code",
      "metadata": {
        "colab": {
          "base_uri": "https://localhost:8080/"
        },
        "id": "HT-ZKaOoUpcZ",
        "outputId": "0417e8a4-b924-4a42-805d-d336fa618692"
      },
      "source": [
        "test_labels[0]"
      ],
      "execution_count": null,
      "outputs": [
        {
          "output_type": "execute_result",
          "data": {
            "text/plain": [
              "4"
            ]
          },
          "metadata": {
            "tags": []
          },
          "execution_count": 20
        }
      ]
    },
    {
      "cell_type": "markdown",
      "metadata": {
        "id": "Puez53w9Uu5D"
      },
      "source": [
        "We can graph this to look at the full set of 10 class predictions"
      ]
    },
    {
      "cell_type": "code",
      "metadata": {
        "id": "MsHudWzBUyYq"
      },
      "source": [
        "def plot_image(i, predictions_array, true_labels, images):\r\n",
        "  predictions_array, true_label, img = predictions_array[i], true_labels[i], images[i]\r\n",
        "  plt.grid(False)\r\n",
        "  plt.xticks([])\r\n",
        "  plt.yticks([])\r\n",
        "  \r\n",
        "  plt.imshow(img[...,0], cmap=plt.cm.binary)\r\n",
        "\r\n",
        "  predicted_label = np.argmax(predictions_array)\r\n",
        "  if predicted_label == true_label:\r\n",
        "    color = 'blue'\r\n",
        "  else:\r\n",
        "    color = 'red'\r\n",
        "  \r\n",
        "  plt.xlabel(\"{} {:2.0f}% ({})\".format(class_names[predicted_label],\r\n",
        "                                100*np.max(predictions_array),\r\n",
        "                                class_names[true_label]),\r\n",
        "                                color=color)\r\n",
        "\r\n",
        "def plot_value_array(i, predictions_array, true_label):\r\n",
        "  predictions_array, true_label = predictions_array[i], true_label[i]\r\n",
        "  plt.grid(False)\r\n",
        "  plt.xticks([])\r\n",
        "  plt.yticks([])\r\n",
        "  thisplot = plt.bar(range(10), predictions_array, color=\"#777777\")\r\n",
        "  plt.ylim([0, 1])\r\n",
        "  predicted_label = np.argmax(predictions_array)\r\n",
        "  \r\n",
        "  thisplot[predicted_label].set_color('red')\r\n",
        "  thisplot[true_label].set_color('blue')"
      ],
      "execution_count": null,
      "outputs": []
    },
    {
      "cell_type": "markdown",
      "metadata": {
        "id": "0el5a7HNYAv6"
      },
      "source": [
        "Let's look at the 0th image, predictions and prediction array."
      ]
    },
    {
      "cell_type": "code",
      "metadata": {
        "colab": {
          "base_uri": "https://localhost:8080/",
          "height": 203
        },
        "id": "Pj9dqbs4YFzK",
        "outputId": "b96e9d23-df02-4aca-9049-e753429434e1"
      },
      "source": [
        "i = 0\r\n",
        "plt.figure(figsize=(6,3))\r\n",
        "plt.subplot(1,2,1)\r\n",
        "plot_image(i, predictions, test_labels, test_images)\r\n",
        "plt.subplot(1,2,2)\r\n",
        "plot_value_array(i, predictions, test_labels)"
      ],
      "execution_count": null,
      "outputs": [
        {
          "output_type": "display_data",
          "data": {
            "image/png": "[encoded data removed]",
            "text/plain": [
              "<Figure size 432x216 with 2 Axes>"
            ]
          },
          "metadata": {
            "tags": []
          }
        }
      ]
    },
    {
      "cell_type": "code",
      "metadata": {
        "colab": {
          "base_uri": "https://localhost:8080/",
          "height": 203
        },
        "id": "DBH9thB3Y_MB",
        "outputId": "f212970a-6f24-4016-899f-1814b7be56a5"
      },
      "source": [
        "i = 12\r\n",
        "plt.figure(figsize=(6,3))\r\n",
        "plt.subplot(1,2,1)\r\n",
        "plot_image(i, predictions, test_labels, test_images)\r\n",
        "plt.subplot(1,2,2)\r\n",
        "plot_value_array(i, predictions, test_labels)"
      ],
      "execution_count": null,
      "outputs": [
        {
          "output_type": "display_data",
          "data": {
            "image/png": "[encoded data removed]",
            "text/plain": [
              "<Figure size 432x216 with 2 Axes>"
            ]
          },
          "metadata": {
            "tags": []
          }
        }
      ]
    },
    {
      "cell_type": "markdown",
      "metadata": {
        "id": "nfuoaXkMZDtG"
      },
      "source": [
        "Let's plot several images with their predictions. Correct prediction labels are blue and incorrect prediction labels are red. The number gives the percent (out of 100) for the predicted label. Note that it can be wrong even when very confident."
      ]
    },
    {
      "cell_type": "code",
      "metadata": {
        "colab": {
          "base_uri": "https://localhost:8080/",
          "height": 589
        },
        "id": "oEJ7-T4pZPs1",
        "outputId": "4cd58940-61cf-4d7d-9566-71d3b817a196"
      },
      "source": [
        "# Plot the first X test images, their predicted label, and the true label\r\n",
        "# Color correct predictions in blue, incorrect predictions in red\r\n",
        "num_rows = 5\r\n",
        "num_cols = 3\r\n",
        "num_images = num_rows*num_cols\r\n",
        "plt.figure(figsize=(2*2*num_cols, 2*num_rows))\r\n",
        "for i in range(num_images):\r\n",
        "  plt.subplot(num_rows, 2*num_cols, 2*i+1)\r\n",
        "  plot_image(i, predictions, test_labels, test_images)\r\n",
        "  plt.subplot(num_rows, 2*num_cols, 2*i+2)\r\n",
        "  plot_value_array(i, predictions, test_labels)"
      ],
      "execution_count": null,
      "outputs": [
        {
          "output_type": "display_data",
          "data": {
            "image/png": "[encoded data removed]",
            "text/plain": [
              "<Figure size 864x720 with 30 Axes>"
            ]
          },
          "metadata": {
            "tags": []
          }
        }
      ]
    },
    {
      "cell_type": "markdown",
      "metadata": {
        "id": "W49LrqgkZ3BF"
      },
      "source": [
        "Finally, use the trained model to make a prediction about a single image."
      ]
    },
    {
      "cell_type": "code",
      "metadata": {
        "colab": {
          "base_uri": "https://localhost:8080/"
        },
        "id": "x7MZYJjvZ5VY",
        "outputId": "ce95e54c-3122-49d8-a18a-166fbe010fa2"
      },
      "source": [
        "# Grab an image from the test dataset\r\n",
        "img = test_images[0]\r\n",
        "\r\n",
        "print(img.shape)"
      ],
      "execution_count": null,
      "outputs": [
        {
          "output_type": "stream",
          "text": [
            "(28, 28, 1)\n"
          ],
          "name": "stdout"
        }
      ]
    },
    {
      "cell_type": "markdown",
      "metadata": {
        "id": "q7lxUDBdZ88p"
      },
      "source": [
        "tf.keras models are optimized to make predictions on a batch, or collection, of examples at once. So even though we're using a single image, we need to add it to a list"
      ]
    },
    {
      "cell_type": "code",
      "metadata": {
        "colab": {
          "base_uri": "https://localhost:8080/"
        },
        "id": "OIotjvizZ_nb",
        "outputId": "75c4e5cd-f83d-4f72-9221-ec02ad94f4cc"
      },
      "source": [
        "# Add the image to a batch where it's the only member.\r\n",
        "img = np.array([img])\r\n",
        "\r\n",
        "print(img.shape)"
      ],
      "execution_count": null,
      "outputs": [
        {
          "output_type": "stream",
          "text": [
            "(1, 28, 28, 1)\n"
          ],
          "name": "stdout"
        }
      ]
    },
    {
      "cell_type": "markdown",
      "metadata": {
        "id": "0SJ9HjJQaDKS"
      },
      "source": [
        "Now predict the image:"
      ]
    },
    {
      "cell_type": "code",
      "metadata": {
        "colab": {
          "base_uri": "https://localhost:8080/"
        },
        "id": "LBsDvbOTaFBI",
        "outputId": "f79c649e-394f-4f05-d559-94cf247b96aa"
      },
      "source": [
        "predictions_single = model.predict(img)\r\n",
        "\r\n",
        "print(predictions_single)"
      ],
      "execution_count": null,
      "outputs": [
        {
          "output_type": "stream",
          "text": [
            "[[2.9498438e-05 1.2060535e-07 1.9092453e-03 1.5202424e-10 6.8374336e-01\n",
            "  2.2227997e-07 3.1431472e-01 9.5693253e-10 1.0798659e-09 2.8517111e-06]]\n"
          ],
          "name": "stdout"
        }
      ]
    },
    {
      "cell_type": "code",
      "metadata": {
        "colab": {
          "base_uri": "https://localhost:8080/",
          "height": 300
        },
        "id": "u6mexDuyaIzs",
        "outputId": "6db35607-8c3c-4808-f11d-81579456e806"
      },
      "source": [
        "plot_value_array(0, predictions_single, test_labels)\r\n",
        "_ = plt.xticks(range(10), class_names, rotation=45)"
      ],
      "execution_count": null,
      "outputs": [
        {
          "output_type": "display_data",
          "data": {
            "image/png": "[encoded data removed]",
            "text/plain": [
              "<Figure size 432x288 with 1 Axes>"
            ]
          },
          "metadata": {
            "tags": [],
            "needs_background": "light"
          }
        }
      ]
    },
    {
      "cell_type": "markdown",
      "metadata": {
        "id": "_r4_RtzKaPu1"
      },
      "source": [
        "`model.predict` returns a list of lists, one for each image in the batch of data. Grab the predictions for our (only) image in the batch:"
      ]
    },
    {
      "cell_type": "code",
      "metadata": {
        "colab": {
          "base_uri": "https://localhost:8080/"
        },
        "id": "QAyS5unYaWf0",
        "outputId": "8b31f938-e8b7-4ef7-f8d5-04ca6dd3e07b"
      },
      "source": [
        "np.argmax(predictions_single[0])"
      ],
      "execution_count": null,
      "outputs": [
        {
          "output_type": "execute_result",
          "data": {
            "text/plain": [
              "4"
            ]
          },
          "metadata": {
            "tags": []
          },
          "execution_count": 36
        }
      ]
    }
  ]
}